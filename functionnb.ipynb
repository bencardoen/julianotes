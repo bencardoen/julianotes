{
 "cells": [
  {
   "cell_type": "code",
   "execution_count": 8,
   "metadata": {},
   "outputs": [
    {
     "data": {
      "text/plain": [
       "fibonacci (generic function with 2 methods)"
      ]
     },
     "execution_count": 8,
     "metadata": {},
     "output_type": "execute_result"
    }
   ],
   "source": [
    "using Formatting: printfmt\n",
    "\n",
    "\n",
    "function fibonacci(n, c)\n",
    "    if n in keys(c)\n",
    "        return c[n]\n",
    "    end\n",
    "    if n < 2\n",
    "        return n\n",
    "    else\n",
    "        printfmt(\"F($n)\", n)\n",
    "        r = fibonacci(n-1, c) + fibonacci(n-2, c)\n",
    "        c[n] = r\n",
    "        return r\n",
    "    end\n",
    "end\n",
    "    "
   ]
  },
  {
   "cell_type": "code",
   "execution_count": 9,
   "metadata": {},
   "outputs": [
    {
     "name": "stdout",
     "output_type": "stream",
     "text": [
      "F(30)F(29)F(28)F(27)F(26)F(25)F(24)F(23)F(22)F(21)F(20)F(19)F(18)F(17)F(16)F(15)F(14)F(13)F(12)F(11)F(10)F(9)F(8)F(7)F(6)F(5)F(4)F(3)F(2)"
     ]
    },
    {
     "data": {
      "text/plain": [
       "832040"
      ]
     },
     "execution_count": 9,
     "metadata": {},
     "output_type": "execute_result"
    }
   ],
   "source": [
    "d = Dict()\n",
    "fibonacci(30, d)"
   ]
  },
  {
   "cell_type": "code",
   "execution_count": null,
   "metadata": {},
   "outputs": [],
   "source": []
  }
 ],
 "metadata": {
  "kernelspec": {
   "display_name": "Julia 0.6.0",
   "language": "julia",
   "name": "julia-0.6"
  },
  "language_info": {
   "file_extension": ".jl",
   "mimetype": "application/julia",
   "name": "julia",
   "version": "0.6.0"
  }
 },
 "nbformat": 4,
 "nbformat_minor": 2
}
